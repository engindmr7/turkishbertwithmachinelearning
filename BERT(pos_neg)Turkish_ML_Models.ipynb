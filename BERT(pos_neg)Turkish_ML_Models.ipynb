{
  "nbformat": 4,
  "nbformat_minor": 0,
  "metadata": {
    "colab": {
      "name": "BERT(pos-neg)Turkish_ML_Models.ipynb",
      "provenance": [],
      "collapsed_sections": [],
      "toc_visible": true
    },
    "kernelspec": {
      "name": "python3",
      "display_name": "Python 3"
    },
    "language_info": {
      "name": "python"
    }
  },
  "cells": [
    {
      "cell_type": "code",
      "metadata": {
        "colab": {
          "base_uri": "https://localhost:8080/"
        },
        "id": "80_XHy6Zo3M4",
        "outputId": "d13478ba-e8b6-415c-da21-6df270dc83ce"
      },
      "source": [
        "import numpy as np\n",
        "import pandas as pd\n",
        "import matplotlib.pyplot as plt\n",
        "import sklearn.metrics\n",
        "import nltk\n",
        "nltk.download('stopwords')\n",
        "from nltk.corpus import stopwords\n",
        "from sklearn.model_selection import train_test_split\n",
        "from sklearn.feature_extraction.text import TfidfVectorizer, CountVectorizer\n",
        "from sklearn.metrics import classification_report\n",
        "from sklearn.naive_bayes import MultinomialNB\n",
        "from sklearn.ensemble import RandomForestClassifier\n",
        "from sklearn.svm import LinearSVC\n",
        "from sklearn.neighbors import KNeighborsClassifier\n",
        "from sklearn.tree import DecisionTreeClassifier\n"
      ],
      "execution_count": 51,
      "outputs": [
        {
          "output_type": "stream",
          "text": [
            "[nltk_data] Downloading package stopwords to /root/nltk_data...\n",
            "[nltk_data]   Package stopwords is already up-to-date!\n"
          ],
          "name": "stdout"
        }
      ]
    },
    {
      "cell_type": "code",
      "metadata": {
        "colab": {
          "base_uri": "https://localhost:8080/",
          "height": 204
        },
        "id": "y_sa1QMDpKBW",
        "outputId": "a559824d-d85b-445d-8fcb-ce944920341b"
      },
      "source": [
        "#Veri setinin yüklenmesi\n",
        "dataset = pd.read_csv('BertTurkishSA_ML.csv' , sep=';',  engine='python', encoding='cp1254') \n",
        "dataset.head() "
      ],
      "execution_count": 52,
      "outputs": [
        {
          "output_type": "execute_result",
          "data": {
            "text/html": [
              "<div>\n",
              "<style scoped>\n",
              "    .dataframe tbody tr th:only-of-type {\n",
              "        vertical-align: middle;\n",
              "    }\n",
              "\n",
              "    .dataframe tbody tr th {\n",
              "        vertical-align: top;\n",
              "    }\n",
              "\n",
              "    .dataframe thead th {\n",
              "        text-align: right;\n",
              "    }\n",
              "</style>\n",
              "<table border=\"1\" class=\"dataframe\">\n",
              "  <thead>\n",
              "    <tr style=\"text-align: right;\">\n",
              "      <th></th>\n",
              "      <th>Sentiment</th>\n",
              "      <th>Sentence</th>\n",
              "    </tr>\n",
              "  </thead>\n",
              "  <tbody>\n",
              "    <tr>\n",
              "      <th>0</th>\n",
              "      <td>0</td>\n",
              "      <td>Hayatta küçük şeyleri kovalıyor ve yine küçük ...</td>\n",
              "    </tr>\n",
              "    <tr>\n",
              "      <th>1</th>\n",
              "      <td>0</td>\n",
              "      <td>Seydiu şimdi iki mevkiyi de kaybetti.</td>\n",
              "    </tr>\n",
              "    <tr>\n",
              "      <th>2</th>\n",
              "      <td>0</td>\n",
              "      <td>Fakat öte yandan, hayatta gelişim sağlayabilme...</td>\n",
              "    </tr>\n",
              "    <tr>\n",
              "      <th>3</th>\n",
              "      <td>1</td>\n",
              "      <td>Seferler Haziran ayında başlıyor.</td>\n",
              "    </tr>\n",
              "    <tr>\n",
              "      <th>4</th>\n",
              "      <td>0</td>\n",
              "      <td>Siyasette temiz insanlara ihtiyacımız var.</td>\n",
              "    </tr>\n",
              "  </tbody>\n",
              "</table>\n",
              "</div>"
            ],
            "text/plain": [
              "   Sentiment                                           Sentence\n",
              "0          0  Hayatta küçük şeyleri kovalıyor ve yine küçük ...\n",
              "1          0              Seydiu şimdi iki mevkiyi de kaybetti.\n",
              "2          0  Fakat öte yandan, hayatta gelişim sağlayabilme...\n",
              "3          1                  Seferler Haziran ayında başlıyor.\n",
              "4          0         Siyasette temiz insanlara ihtiyacımız var."
            ]
          },
          "metadata": {
            "tags": []
          },
          "execution_count": 52
        }
      ]
    },
    {
      "cell_type": "code",
      "metadata": {
        "id": "fnqZVDeIpYBI"
      },
      "source": [
        "#Veri Temizleme İşlemleri\n",
        "\n",
        "#küçük harfe çevirme\n",
        "dataset['Sentence'] = dataset['Sentence'].apply(lambda x: \" \".join(x.lower() for x in x.split()))\n",
        "#noktalama işaretlerini kaldırma\n",
        "dataset['Sentence'] = dataset['Sentence'].str.replace('[^\\w\\s]','')\n",
        "#sayıları ayıklama\n",
        "dataset['Sentence'] = dataset['Sentence'].str.replace('\\d','')\n",
        "#durak kelimeler\n",
        "sw = stopwords.words('turkish')\n",
        "dataset['Sentence'] = dataset['Sentence'].apply(lambda x: \" \".join(x for x in x.split() if x not in sw))\n",
        "# ender(rare) kelimeler\n",
        "remove = pd.Series(\" \".join(dataset[\"Sentence\"]).split()).value_counts()[-1000:]\n",
        "dataset[\"Sentence\"]=dataset[\"Sentence\"].apply(lambda x: \" \".join(i for i in x.split() if i not in remove))"
      ],
      "execution_count": 53,
      "outputs": []
    },
    {
      "cell_type": "code",
      "metadata": {
        "colab": {
          "base_uri": "https://localhost:8080/"
        },
        "id": "im5vMGeqp-un",
        "outputId": "166975bb-47e9-420e-cd1f-5450ae170ca9"
      },
      "source": [
        "#Veri seti eğitim ve test verileri olmak üzere ayrılır.\n",
        "\n",
        "X_train, X_test, y_train, y_test = train_test_split(dataset[\"Sentence\"],dataset[\"Sentiment\"], test_size = 0.15, random_state = 42)\n",
        "\n",
        "print(f\"Eğitim Veri Sayısı : {X_train.shape[0]} Test Veri Sayısı : {X_test.shape[0]}\") \n",
        "\n"
      ],
      "execution_count": 54,
      "outputs": [
        {
          "output_type": "stream",
          "text": [
            "Eğitim Veri Sayısı : 4250 Test Veri Sayısı : 751\n"
          ],
          "name": "stdout"
        }
      ]
    },
    {
      "cell_type": "code",
      "metadata": {
        "colab": {
          "base_uri": "https://localhost:8080/"
        },
        "id": "sqmVY9rsqMSq",
        "outputId": "dfd611c6-7321-4c07-e821-6c6c68df8df8"
      },
      "source": [
        "#Vektörizasyon işlemleri için CountVectorizer kullanılmıştır.\n",
        "#CountVectorizer, bir metin belgesi koleksiyonunu bir belirteç sayısı matrisine dönüştürür.\n",
        "#CountVectorizer’de terim farklı dökümanlarda geçse dahi o kelimenin geçtiği miktarı matriste belirtir. \n",
        "\n",
        "vectorizer = CountVectorizer() \n",
        "vectorizer.fit(X_train)"
      ],
      "execution_count": 55,
      "outputs": [
        {
          "output_type": "execute_result",
          "data": {
            "text/plain": [
              "CountVectorizer(analyzer='word', binary=False, decode_error='strict',\n",
              "                dtype=<class 'numpy.int64'>, encoding='utf-8', input='content',\n",
              "                lowercase=True, max_df=1.0, max_features=None, min_df=1,\n",
              "                ngram_range=(1, 1), preprocessor=None, stop_words=None,\n",
              "                strip_accents=None, token_pattern='(?u)\\\\b\\\\w\\\\w+\\\\b',\n",
              "                tokenizer=None, vocabulary=None)"
            ]
          },
          "metadata": {
            "tags": []
          },
          "execution_count": 55
        }
      ]
    },
    {
      "cell_type": "code",
      "metadata": {
        "id": "qwUUHZ6XqSet"
      },
      "source": [
        "#Eğitim ve test verileri üzerinde CountVectorizer ile vektörizasyon işlemi yapılmıştır.\n",
        "\n",
        "x_train_count = vectorizer.transform(X_train)\n",
        "x_test_count = vectorizer.transform(X_test)"
      ],
      "execution_count": 56,
      "outputs": []
    },
    {
      "cell_type": "code",
      "metadata": {
        "colab": {
          "base_uri": "https://localhost:8080/"
        },
        "id": "XHlRZU0JqXd3",
        "outputId": "8d8d2cab-49d7-41d6-ba0a-7589fa6e7664"
      },
      "source": [
        "#Vektörizasyon işlemleri için kullanılan bir diğer dönüştürücü ise TF-IDF(Terim Frekansı x Ters Belge Frekansı)'dir.\n",
        "#TF-IDF'nin amacı, bir belgede sık görülen ancak belgeler arasında olmayan sözcükleri vurgulamaktır.\n",
        "#TF-IDF,bir kelimenin bulunduğu doküman içindeki değerini gösteren istatistiki yöntemle hesaplanan ağırlık faktörüdür.\n",
        "\n",
        "tf_idf = TfidfVectorizer()\n",
        "tf_idf.fit(X_train)"
      ],
      "execution_count": 57,
      "outputs": [
        {
          "output_type": "execute_result",
          "data": {
            "text/plain": [
              "TfidfVectorizer(analyzer='word', binary=False, decode_error='strict',\n",
              "                dtype=<class 'numpy.float64'>, encoding='utf-8',\n",
              "                input='content', lowercase=True, max_df=1.0, max_features=None,\n",
              "                min_df=1, ngram_range=(1, 1), norm='l2', preprocessor=None,\n",
              "                smooth_idf=True, stop_words=None, strip_accents=None,\n",
              "                sublinear_tf=False, token_pattern='(?u)\\\\b\\\\w\\\\w+\\\\b',\n",
              "                tokenizer=None, use_idf=True, vocabulary=None)"
            ]
          },
          "metadata": {
            "tags": []
          },
          "execution_count": 57
        }
      ]
    },
    {
      "cell_type": "code",
      "metadata": {
        "id": "ImbBjMIqqamm"
      },
      "source": [
        "#Eğitim ve test verileri üzerinde TF-IDF ile vektörizasyon işlemi yapılmıştır.\n",
        "\n",
        "x_train_tf_idf = tf_idf.transform(X_train)\n",
        "x_test_tf_idf = tf_idf.transform(X_test)"
      ],
      "execution_count": 58,
      "outputs": []
    },
    {
      "cell_type": "markdown",
      "metadata": {
        "id": "OiVkdm8eqkE1"
      },
      "source": [
        "### **Makine Öğrenmesi** **Modelleri** \n"
      ]
    },
    {
      "cell_type": "markdown",
      "metadata": {
        "id": "EOl7wi_axLCH"
      },
      "source": [
        "**1 - Naive Bayes**"
      ]
    },
    {
      "cell_type": "code",
      "metadata": {
        "id": "rGWq9GpaswgP",
        "colab": {
          "base_uri": "https://localhost:8080/"
        },
        "outputId": "d8b2f384-5f39-4213-b907-debcac1e7565"
      },
      "source": [
        "nb = MultinomialNB()  #NaiveBayes\n",
        "nb_model = nb.fit(x_train_count,y_train)\n",
        "\n",
        "y_pred = nb_model.predict(x_test_count) #counvectorizer\n",
        "\n",
        "#accuracy\n",
        "print(classification_report(y_test, y_pred))"
      ],
      "execution_count": 60,
      "outputs": [
        {
          "output_type": "stream",
          "text": [
            "              precision    recall  f1-score   support\n",
            "\n",
            "           0       0.71      0.81      0.75       431\n",
            "           1       0.68      0.55      0.61       320\n",
            "\n",
            "    accuracy                           0.70       751\n",
            "   macro avg       0.69      0.68      0.68       751\n",
            "weighted avg       0.70      0.70      0.69       751\n",
            "\n"
          ],
          "name": "stdout"
        }
      ]
    },
    {
      "cell_type": "code",
      "metadata": {
        "id": "70uDsFoxFw3y"
      },
      "source": [
        "from sklearn.metrics import confusion_matrix #Karmaşıklık matrisi - countvectorizer\n",
        "import itertools\n",
        "\n",
        "y_pred = nb.predict(x_test_count)\n",
        "y_true = y_test\n",
        "\n",
        "cm = confusion_matrix(y_true, y_pred.round())  "
      ],
      "execution_count": 61,
      "outputs": []
    },
    {
      "cell_type": "code",
      "metadata": {
        "id": "yeZUspvHcLwJ"
      },
      "source": [
        "#Karmaşıklık matrisi fonksiyonu\n",
        "def plot_confusion_matrix(cm, classes,             \n",
        "                          normalize=False,\n",
        "                         title=\"Karmaşıklık Matrisi\",\n",
        "                         cmap = plt.cm.Blues):\n",
        "    plt.imshow(cm,interpolation='nearest', cmap=cmap)\n",
        "    plt.title(title)\n",
        "    plt.colorbar()\n",
        "    tick_marks = np.arange(len(classes))\n",
        "    plt.xticks(tick_marks, classes, rotation=45)\n",
        "    plt.yticks(tick_marks, classes)\n",
        "    \n",
        "    if normalize:\n",
        "        cm=cm.astype('float')/ cm.sum(axis=1)[:,np.newaxis]\n",
        "        print(\"Normalleştirilmiş Karmaşıklık Matrisi\")\n",
        "    else:\n",
        "        print(\"Normalleştirme Olmadan Karmaşıklık Matrisi\")\n",
        "    \n",
        "    print(cm)\n",
        "    \n",
        "    thresh=cm.max()/2.\n",
        "    \n",
        "    for i,j in itertools.product(range(cm.shape[0]), range(cm.shape[1])):\n",
        "        plt.text(j, i, cm[i,j],\n",
        "                horizontalalignment='center',\n",
        "                color='white' if cm[i,j]>thresh else 'black')\n",
        "    plt.tight_layout()\n",
        "    plt.ylabel(\"Gerçek Değerler\")\n",
        "    plt.xlabel(\"Tahmin Edilen Değerler\")"
      ],
      "execution_count": 62,
      "outputs": []
    },
    {
      "cell_type": "code",
      "metadata": {
        "colab": {
          "base_uri": "https://localhost:8080/",
          "height": 363
        },
        "id": "VeLrD5G4F_bP",
        "outputId": "0c1a975c-7791-4ac2-d6b4-2151ba506cbe"
      },
      "source": [
        "cm_plot_labels=['Negative sentiment','Positive sentiment']\n",
        "plot_confusion_matrix(cm,cm_plot_labels,title='Naive Bayes-CountVectorizer')"
      ],
      "execution_count": 63,
      "outputs": [
        {
          "output_type": "stream",
          "text": [
            "Normalleştirme Olmadan Karmaşıklık Matrisi\n",
            "[[348  83]\n",
            " [143 177]]\n"
          ],
          "name": "stdout"
        },
        {
          "output_type": "display_data",
          "data": {
            "image/png": "[encoded data removed]",
            "text/plain": [
              "<Figure size 432x288 with 2 Axes>"
            ]
          },
          "metadata": {
            "tags": [],
            "needs_background": "light"
          }
        }
      ]
    },
    {
      "cell_type": "code",
      "metadata": {
        "id": "Hkax4HBbs89b",
        "colab": {
          "base_uri": "https://localhost:8080/"
        },
        "outputId": "0f1c5421-c873-4aa9-b3a3-5351adee58be"
      },
      "source": [
        "nb_model = nb.fit(x_train_tf_idf,y_train) #Naive Bayes - tf-idf\n",
        "\n",
        "y_pred = nb_model.predict(x_test_tf_idf)\n",
        "\n",
        "#accuracy\n",
        "print(classification_report(y_test, y_pred))"
      ],
      "execution_count": 64,
      "outputs": [
        {
          "output_type": "stream",
          "text": [
            "              precision    recall  f1-score   support\n",
            "\n",
            "           0       0.68      0.87      0.76       431\n",
            "           1       0.71      0.44      0.54       320\n",
            "\n",
            "    accuracy                           0.68       751\n",
            "   macro avg       0.69      0.65      0.65       751\n",
            "weighted avg       0.69      0.68      0.67       751\n",
            "\n"
          ],
          "name": "stdout"
        }
      ]
    },
    {
      "cell_type": "code",
      "metadata": {
        "id": "hgREgp9Kkknh"
      },
      "source": [
        "from sklearn.metrics import confusion_matrix #Karmaşıklık matrisi - tf-idf\n",
        "import itertools\n",
        "\n",
        "y_pred = nb.predict(x_test_tf_idf)\n",
        "y_true = y_test\n",
        "\n",
        "cm = confusion_matrix(y_true, y_pred.round())  #round"
      ],
      "execution_count": 65,
      "outputs": []
    },
    {
      "cell_type": "code",
      "metadata": {
        "colab": {
          "base_uri": "https://localhost:8080/",
          "height": 363
        },
        "id": "20oOR3HGk_MU",
        "outputId": "03485eed-b719-48ee-d261-59c593f78394"
      },
      "source": [
        "cm_plot_labels=['Negative sentiment','Positive sentiment']\n",
        "plot_confusion_matrix(cm,cm_plot_labels,title='Naive Bayes-TF-IDF')"
      ],
      "execution_count": 66,
      "outputs": [
        {
          "output_type": "stream",
          "text": [
            "Normalleştirme Olmadan Karmaşıklık Matrisi\n",
            "[[374  57]\n",
            " [180 140]]\n"
          ],
          "name": "stdout"
        },
        {
          "output_type": "display_data",
          "data": {
            "image/png": "[encoded data removed]",
            "text/plain": [
              "<Figure size 432x288 with 2 Axes>"
            ]
          },
          "metadata": {
            "tags": [],
            "needs_background": "light"
          }
        }
      ]
    },
    {
      "cell_type": "markdown",
      "metadata": {
        "id": "OhldiEzHxlb6"
      },
      "source": [
        "**2 - Random Forest**"
      ]
    },
    {
      "cell_type": "code",
      "metadata": {
        "id": "P8xOg6evtKCA",
        "colab": {
          "base_uri": "https://localhost:8080/"
        },
        "outputId": "8cf1fe93-498a-40dd-9928-7aa61ce14ed5"
      },
      "source": [
        "rf = RandomForestClassifier() #RandomForest-countvectorizer\n",
        "rf_model = rf.fit(x_train_count,y_train)\n",
        "\n",
        "y_pred = rf_model.predict(x_test_count)\n",
        "\n",
        "#accuracy\n",
        "print(classification_report(y_test, y_pred))"
      ],
      "execution_count": 67,
      "outputs": [
        {
          "output_type": "stream",
          "text": [
            "              precision    recall  f1-score   support\n",
            "\n",
            "           0       0.66      0.86      0.75       431\n",
            "           1       0.69      0.42      0.52       320\n",
            "\n",
            "    accuracy                           0.67       751\n",
            "   macro avg       0.68      0.64      0.63       751\n",
            "weighted avg       0.68      0.67      0.65       751\n",
            "\n"
          ],
          "name": "stdout"
        }
      ]
    },
    {
      "cell_type": "code",
      "metadata": {
        "id": "wdauw7UOlRnx"
      },
      "source": [
        "from sklearn.metrics import confusion_matrix #Karmaşıklık matrisi - countvectorizer\n",
        "import itertools\n",
        "\n",
        "y_pred = rf.predict(x_test_count)\n",
        "y_true = y_test\n",
        "\n",
        "cm = confusion_matrix(y_true, y_pred.round())  "
      ],
      "execution_count": 68,
      "outputs": []
    },
    {
      "cell_type": "code",
      "metadata": {
        "colab": {
          "base_uri": "https://localhost:8080/",
          "height": 363
        },
        "id": "HbIwXLwxmN2p",
        "outputId": "49dc6402-f848-4c81-8cfa-fda5a53f04ff"
      },
      "source": [
        "cm_plot_labels=['Negative sentiment','Positive sentiment']\n",
        "plot_confusion_matrix(cm,cm_plot_labels,title='Random Forest-CountVectorizer')"
      ],
      "execution_count": 69,
      "outputs": [
        {
          "output_type": "stream",
          "text": [
            "Normalleştirme Olmadan Karmaşıklık Matrisi\n",
            "[[371  60]\n",
            " [187 133]]\n"
          ],
          "name": "stdout"
        },
        {
          "output_type": "display_data",
          "data": {
            "image/png": "[encoded data removed]",
            "text/plain": [
              "<Figure size 432x288 with 2 Axes>"
            ]
          },
          "metadata": {
            "tags": [],
            "needs_background": "light"
          }
        }
      ]
    },
    {
      "cell_type": "code",
      "metadata": {
        "id": "ShkDNX5ptSwl",
        "colab": {
          "base_uri": "https://localhost:8080/"
        },
        "outputId": "b7747ea8-0738-496c-85c6-726d257ddc8e"
      },
      "source": [
        "rf_model = rf.fit(x_train_tf_idf,y_train) #tf-idf\n",
        "\n",
        "y_pred = rf_model.predict(x_test_tf_idf)\n",
        "\n",
        "#accuracy\n",
        "print(classification_report(y_test, y_pred))"
      ],
      "execution_count": 70,
      "outputs": [
        {
          "output_type": "stream",
          "text": [
            "              precision    recall  f1-score   support\n",
            "\n",
            "           0       0.68      0.80      0.73       431\n",
            "           1       0.64      0.49      0.56       320\n",
            "\n",
            "    accuracy                           0.67       751\n",
            "   macro avg       0.66      0.64      0.65       751\n",
            "weighted avg       0.66      0.67      0.66       751\n",
            "\n"
          ],
          "name": "stdout"
        }
      ]
    },
    {
      "cell_type": "code",
      "metadata": {
        "id": "K-nQUpXVmypJ"
      },
      "source": [
        "from sklearn.metrics import confusion_matrix #Karmaşıklık matrisi - tf-idf\n",
        "import itertools\n",
        "\n",
        "y_pred = rf.predict(x_test_tf_idf)\n",
        "y_true = y_test\n",
        "\n",
        "cm = confusion_matrix(y_true, y_pred.round())  "
      ],
      "execution_count": 71,
      "outputs": []
    },
    {
      "cell_type": "code",
      "metadata": {
        "colab": {
          "base_uri": "https://localhost:8080/",
          "height": 363
        },
        "id": "Qn6AeDsWnBjg",
        "outputId": "a3fc24bd-3db4-4e41-c0cd-fa74db96097e"
      },
      "source": [
        "cm_plot_labels=['Negative sentiment','Positive sentiment']\n",
        "plot_confusion_matrix(cm,cm_plot_labels,title='Random Forest-TF-IDF')"
      ],
      "execution_count": 72,
      "outputs": [
        {
          "output_type": "stream",
          "text": [
            "Normalleştirme Olmadan Karmaşıklık Matrisi\n",
            "[[343  88]\n",
            " [162 158]]\n"
          ],
          "name": "stdout"
        },
        {
          "output_type": "display_data",
          "data": {
            "image/png": "[encoded data removed]",
            "text/plain": [
              "<Figure size 432x288 with 2 Axes>"
            ]
          },
          "metadata": {
            "tags": [],
            "needs_background": "light"
          }
        }
      ]
    },
    {
      "cell_type": "markdown",
      "metadata": {
        "id": "UYGrKZXZx6oO"
      },
      "source": [
        "**3 - Support Vector Machine**"
      ]
    },
    {
      "cell_type": "code",
      "metadata": {
        "id": "KHTWIDm3vo1a",
        "colab": {
          "base_uri": "https://localhost:8080/"
        },
        "outputId": "803b80a2-0fea-42c3-cc37-562d715d4d65"
      },
      "source": [
        "svm = LinearSVC() #Support Vector Machine\n",
        "svm_model = svm.fit(x_train_count,y_train)\n",
        "\n",
        "y_pred = svm_model.predict(x_test_count) #countvectorizer\n",
        "\n",
        "#accuracy\n",
        "print(classification_report(y_test, y_pred))"
      ],
      "execution_count": 73,
      "outputs": [
        {
          "output_type": "stream",
          "text": [
            "              precision    recall  f1-score   support\n",
            "\n",
            "           0       0.70      0.76      0.73       431\n",
            "           1       0.63      0.56      0.59       320\n",
            "\n",
            "    accuracy                           0.68       751\n",
            "   macro avg       0.67      0.66      0.66       751\n",
            "weighted avg       0.67      0.68      0.67       751\n",
            "\n"
          ],
          "name": "stdout"
        }
      ]
    },
    {
      "cell_type": "code",
      "metadata": {
        "id": "szu9S8rNpWNc"
      },
      "source": [
        "from sklearn.metrics import confusion_matrix #Karmaşıklık matrisi - countvectorizer\n",
        "import itertools\n",
        "\n",
        "y_pred = svm.predict(x_test_count)\n",
        "y_true = y_test\n",
        "\n",
        "cm = confusion_matrix(y_true, y_pred.round())  #round"
      ],
      "execution_count": 74,
      "outputs": []
    },
    {
      "cell_type": "code",
      "metadata": {
        "colab": {
          "base_uri": "https://localhost:8080/",
          "height": 363
        },
        "id": "61OO36pMpmkw",
        "outputId": "42fb35a8-55f3-4cf2-b632-9f57accf9909"
      },
      "source": [
        "cm_plot_labels=['Negative sentiment','Positive sentiment']\n",
        "plot_confusion_matrix(cm,cm_plot_labels,title='SupportVectorMachine-CountVectorizer')"
      ],
      "execution_count": 75,
      "outputs": [
        {
          "output_type": "stream",
          "text": [
            "Normalleştirme Olmadan Karmaşıklık Matrisi\n",
            "[[328 103]\n",
            " [141 179]]\n"
          ],
          "name": "stdout"
        },
        {
          "output_type": "display_data",
          "data": {
            "image/png": "[encoded data removed]",
            "text/plain": [
              "<Figure size 432x288 with 2 Axes>"
            ]
          },
          "metadata": {
            "tags": [],
            "needs_background": "light"
          }
        }
      ]
    },
    {
      "cell_type": "code",
      "metadata": {
        "id": "ILFt1Itrwa9Q",
        "colab": {
          "base_uri": "https://localhost:8080/"
        },
        "outputId": "b1b05e61-aa43-41b5-b3ff-64a9830f57ec"
      },
      "source": [
        "svm_model = svm.fit(x_train_tf_idf,y_train) #tf-idf\n",
        "\n",
        "y_pred = svm_model.predict(x_test_tf_idf)\n",
        "\n",
        "#accuracy\n",
        "print(classification_report(y_test, y_pred))"
      ],
      "execution_count": 76,
      "outputs": [
        {
          "output_type": "stream",
          "text": [
            "              precision    recall  f1-score   support\n",
            "\n",
            "           0       0.71      0.79      0.75       431\n",
            "           1       0.67      0.56      0.61       320\n",
            "\n",
            "    accuracy                           0.69       751\n",
            "   macro avg       0.69      0.68      0.68       751\n",
            "weighted avg       0.69      0.69      0.69       751\n",
            "\n"
          ],
          "name": "stdout"
        }
      ]
    },
    {
      "cell_type": "code",
      "metadata": {
        "id": "DGT-qFl9q0qA"
      },
      "source": [
        "from sklearn.metrics import confusion_matrix #Karmaşıklık matrisi - tf-idf\n",
        "import itertools\n",
        "\n",
        "y_pred = svm.predict(x_test_tf_idf)\n",
        "y_true = y_test\n",
        "\n",
        "cm = confusion_matrix(y_true, y_pred.round())  "
      ],
      "execution_count": 77,
      "outputs": []
    },
    {
      "cell_type": "code",
      "metadata": {
        "colab": {
          "base_uri": "https://localhost:8080/",
          "height": 363
        },
        "id": "aB-ipQrCrOAV",
        "outputId": "096a939d-feb3-4ac3-cfa1-8b1318a91144"
      },
      "source": [
        "cm_plot_labels=['Negative sentiment','Positive sentiment']\n",
        "plot_confusion_matrix(cm,cm_plot_labels,title='SupportVectorMachine-TF-IDF')"
      ],
      "execution_count": 78,
      "outputs": [
        {
          "output_type": "stream",
          "text": [
            "Normalleştirme Olmadan Karmaşıklık Matrisi\n",
            "[[341  90]\n",
            " [141 179]]\n"
          ],
          "name": "stdout"
        },
        {
          "output_type": "display_data",
          "data": {
            "image/png": "[encoded data removed]",
            "text/plain": [
              "<Figure size 432x288 with 2 Axes>"
            ]
          },
          "metadata": {
            "tags": [],
            "needs_background": "light"
          }
        }
      ]
    },
    {
      "cell_type": "markdown",
      "metadata": {
        "id": "fBg9hK-pyEVi"
      },
      "source": [
        "**4 - Decision Tree**"
      ]
    },
    {
      "cell_type": "code",
      "metadata": {
        "id": "2m055VA1xCQi",
        "colab": {
          "base_uri": "https://localhost:8080/"
        },
        "outputId": "0ca05793-58dd-4db6-dba3-70488a393329"
      },
      "source": [
        "dt = DecisionTreeClassifier() #Decision Tree\n",
        "dt_model = dt.fit(x_train_count,y_train)\n",
        "\n",
        "y_pred = dt_model.predict(x_test_count) #countvectorizer\n",
        "\n",
        "#accuracy\n",
        "print(classification_report(y_test, y_pred))"
      ],
      "execution_count": 79,
      "outputs": [
        {
          "output_type": "stream",
          "text": [
            "              precision    recall  f1-score   support\n",
            "\n",
            "           0       0.65      0.78      0.71       431\n",
            "           1       0.59      0.42      0.49       320\n",
            "\n",
            "    accuracy                           0.63       751\n",
            "   macro avg       0.62      0.60      0.60       751\n",
            "weighted avg       0.62      0.63      0.62       751\n",
            "\n"
          ],
          "name": "stdout"
        }
      ]
    },
    {
      "cell_type": "code",
      "metadata": {
        "id": "kYKKJOkkrcZ2"
      },
      "source": [
        "from sklearn.metrics import confusion_matrix #Karmaşıklık matrisi - countvectorizer\n",
        "import itertools\n",
        "\n",
        "y_pred = dt.predict(x_test_count)\n",
        "y_true = y_test\n",
        "\n",
        "cm = confusion_matrix(y_true, y_pred.round())  #round"
      ],
      "execution_count": 80,
      "outputs": []
    },
    {
      "cell_type": "code",
      "metadata": {
        "colab": {
          "base_uri": "https://localhost:8080/",
          "height": 363
        },
        "id": "LsqagLu3r_4B",
        "outputId": "bb19f6e8-cf46-45af-bd38-ff8bef7db72f"
      },
      "source": [
        "cm_plot_labels=['Negative sentiment','Positive sentiment']\n",
        "plot_confusion_matrix(cm,cm_plot_labels,title='DecisionTree-CountVectorizer')"
      ],
      "execution_count": 81,
      "outputs": [
        {
          "output_type": "stream",
          "text": [
            "Normalleştirme Olmadan Karmaşıklık Matrisi\n",
            "[[337  94]\n",
            " [184 136]]\n"
          ],
          "name": "stdout"
        },
        {
          "output_type": "display_data",
          "data": {
            "image/png": "[encoded data removed]",
            "text/plain": [
              "<Figure size 432x288 with 2 Axes>"
            ]
          },
          "metadata": {
            "tags": [],
            "needs_background": "light"
          }
        }
      ]
    },
    {
      "cell_type": "code",
      "metadata": {
        "id": "MGHKpy4WyA-K",
        "colab": {
          "base_uri": "https://localhost:8080/"
        },
        "outputId": "c00a8014-cb0d-4413-daea-60be0e677cfc"
      },
      "source": [
        "dt_model = dt.fit(x_train_tf_idf,y_train) #tf-idf\n",
        "\n",
        "y_pred = dt_model.predict(x_test_tf_idf)\n",
        "\n",
        "#accuracy\n",
        "print(classification_report(y_test, y_pred))"
      ],
      "execution_count": 82,
      "outputs": [
        {
          "output_type": "stream",
          "text": [
            "              precision    recall  f1-score   support\n",
            "\n",
            "           0       0.65      0.68      0.67       431\n",
            "           1       0.54      0.51      0.52       320\n",
            "\n",
            "    accuracy                           0.61       751\n",
            "   macro avg       0.60      0.60      0.60       751\n",
            "weighted avg       0.61      0.61      0.61       751\n",
            "\n"
          ],
          "name": "stdout"
        }
      ]
    },
    {
      "cell_type": "code",
      "metadata": {
        "id": "KhgSTerHskjn"
      },
      "source": [
        "from sklearn.metrics import confusion_matrix #Karmaşıklık matrisi - tf-idf\n",
        "import itertools\n",
        "\n",
        "y_pred = dt.predict(x_test_tf_idf)\n",
        "y_true = y_test\n",
        "\n",
        "cm = confusion_matrix(y_true, y_pred.round())  "
      ],
      "execution_count": 83,
      "outputs": []
    },
    {
      "cell_type": "code",
      "metadata": {
        "colab": {
          "base_uri": "https://localhost:8080/",
          "height": 363
        },
        "id": "12ipaQEns_uC",
        "outputId": "c546dd40-f140-487e-e076-0599c2932019"
      },
      "source": [
        "cm_plot_labels=['Negative sentiment','Positive sentiment']\n",
        "plot_confusion_matrix(cm,cm_plot_labels,title='DecisionTree-TF-IDF')"
      ],
      "execution_count": 84,
      "outputs": [
        {
          "output_type": "stream",
          "text": [
            "Normalleştirme Olmadan Karmaşıklık Matrisi\n",
            "[[295 136]\n",
            " [158 162]]\n"
          ],
          "name": "stdout"
        },
        {
          "output_type": "display_data",
          "data": {
            "image/png": "[encoded data removed]",
            "text/plain": [
              "<Figure size 432x288 with 2 Axes>"
            ]
          },
          "metadata": {
            "tags": [],
            "needs_background": "light"
          }
        }
      ]
    },
    {
      "cell_type": "markdown",
      "metadata": {
        "id": "FUuPgd0uyMfJ"
      },
      "source": [
        "**5 - KNN**"
      ]
    },
    {
      "cell_type": "code",
      "metadata": {
        "id": "tcOxQnp7yUoc",
        "colab": {
          "base_uri": "https://localhost:8080/"
        },
        "outputId": "c89d93d9-4a80-435c-bf8f-08dd2e00bf13"
      },
      "source": [
        "knn = KNeighborsClassifier() #knn\n",
        "knn_model = knn.fit(x_train_count,y_train)\n",
        "\n",
        "y_pred = knn_model.predict(x_test_count) #countvectorizer\n",
        "\n",
        "#accuracy\n",
        "print(classification_report(y_test, y_pred))"
      ],
      "execution_count": 85,
      "outputs": [
        {
          "output_type": "stream",
          "text": [
            "              precision    recall  f1-score   support\n",
            "\n",
            "           0       0.60      0.94      0.74       431\n",
            "           1       0.68      0.17      0.27       320\n",
            "\n",
            "    accuracy                           0.61       751\n",
            "   macro avg       0.64      0.55      0.50       751\n",
            "weighted avg       0.63      0.61      0.54       751\n",
            "\n"
          ],
          "name": "stdout"
        }
      ]
    },
    {
      "cell_type": "code",
      "metadata": {
        "id": "ogPgPssfvNeX"
      },
      "source": [
        "from sklearn.metrics import confusion_matrix #Karmaşıklık matrisi - countvectorizer\n",
        "import itertools\n",
        "\n",
        "y_pred = knn.predict(x_test_count)\n",
        "y_true = y_test\n",
        "\n",
        "cm = confusion_matrix(y_true, y_pred.round())  #round"
      ],
      "execution_count": 86,
      "outputs": []
    },
    {
      "cell_type": "code",
      "metadata": {
        "colab": {
          "base_uri": "https://localhost:8080/",
          "height": 363
        },
        "id": "cInXdnRVvZgW",
        "outputId": "a55a7cbb-6d8f-4813-c80d-4c7da2f02fb4"
      },
      "source": [
        "cm_plot_labels=['Negative sentiment','Positive sentiment']\n",
        "plot_confusion_matrix(cm,cm_plot_labels,title='KNN-CountVectorizer')"
      ],
      "execution_count": 87,
      "outputs": [
        {
          "output_type": "stream",
          "text": [
            "Normalleştirme Olmadan Karmaşıklık Matrisi\n",
            "[[405  26]\n",
            " [266  54]]\n"
          ],
          "name": "stdout"
        },
        {
          "output_type": "display_data",
          "data": {
            "image/png": "[encoded data removed]",
            "text/plain": [
              "<Figure size 432x288 with 2 Axes>"
            ]
          },
          "metadata": {
            "tags": [],
            "needs_background": "light"
          }
        }
      ]
    },
    {
      "cell_type": "code",
      "metadata": {
        "id": "q0GJub-9yzt3",
        "colab": {
          "base_uri": "https://localhost:8080/"
        },
        "outputId": "12b36f84-dbc0-48d6-bb13-ebc9da14002b"
      },
      "source": [
        "knn_model = knn.fit(x_train_tf_idf,y_train) #tf-idf\n",
        "\n",
        "y_pred = knn_model.predict(x_test_tf_idf)\n",
        "\n",
        "#accuracy\n",
        "print(classification_report(y_test, y_pred))"
      ],
      "execution_count": 88,
      "outputs": [
        {
          "output_type": "stream",
          "text": [
            "              precision    recall  f1-score   support\n",
            "\n",
            "           0       0.59      1.00      0.74       431\n",
            "           1       1.00      0.07      0.13       320\n",
            "\n",
            "    accuracy                           0.60       751\n",
            "   macro avg       0.80      0.54      0.44       751\n",
            "weighted avg       0.77      0.60      0.48       751\n",
            "\n"
          ],
          "name": "stdout"
        }
      ]
    },
    {
      "cell_type": "code",
      "metadata": {
        "id": "OFbThUmiwRTt"
      },
      "source": [
        "from sklearn.metrics import confusion_matrix #Karmaşıklık matrisi - TF-IDF\n",
        "import itertools\n",
        "\n",
        "y_pred = knn.predict(x_test_tf_idf)\n",
        "y_true = y_test\n",
        "\n",
        "cm = confusion_matrix(y_true, y_pred.round())  #round"
      ],
      "execution_count": 89,
      "outputs": []
    },
    {
      "cell_type": "code",
      "metadata": {
        "colab": {
          "base_uri": "https://localhost:8080/",
          "height": 363
        },
        "id": "qBj4BQ2bwWRn",
        "outputId": "26f7fd6a-59b4-45f0-dbf3-648eb5d5b8ff"
      },
      "source": [
        "cm_plot_labels=['Negative sentiment','Positive sentiment']\n",
        "plot_confusion_matrix(cm,cm_plot_labels,title='KNN-TF-IDF')"
      ],
      "execution_count": 90,
      "outputs": [
        {
          "output_type": "stream",
          "text": [
            "Normalleştirme Olmadan Karmaşıklık Matrisi\n",
            "[[431   0]\n",
            " [297  23]]\n"
          ],
          "name": "stdout"
        },
        {
          "output_type": "display_data",
          "data": {
            "image/png": "[encoded data removed]",
            "text/plain": [
              "<Figure size 432x288 with 2 Axes>"
            ]
          },
          "metadata": {
            "tags": [],
            "needs_background": "light"
          }
        }
      ]
    }
  ]
}